{
 "cells": [
  {
   "cell_type": "code",
   "execution_count": null,
   "id": "c426fc1b-0f06-4175-826d-48702bb8079c",
   "metadata": {},
   "outputs": [],
   "source": [
    "import pandas as pd\n",
    "import numpy as np\n",
    "import torch\n",
    "from torch.utils.data import Dataset, DataLoader, random_split\n",
    "from torch import nn, optim\n",
    "from sklearn.preprocessing import StandardScaler, LabelEncoder\n",
    "from sklearn.decomposition import PCA\n",
    "from sklearn.model_selection import train_test_split\n",
    "from sklearn.metrics import accuracy_score, precision_score, recall_score, f1_score, roc_curve, auc, roc_auc_score\n",
    "import matplotlib.pyplot as plt"
   ]
  },
  {
   "cell_type": "code",
   "execution_count": null,
   "id": "85b9a49b-9392-4c5f-a5a0-c84ca5630375",
   "metadata": {},
   "outputs": [],
   "source": [
    "import pyro\n",
    "import pyro.distributions as dist\n",
    "from pyro.infer import SVI, Trace_ELBO\n",
    "from pyro.optim import Adam"
   ]
  },
  {
   "cell_type": "code",
   "execution_count": null,
   "id": "c719537c-b1b4-407e-a900-5ee890d122ca",
   "metadata": {},
   "outputs": [],
   "source": [
    "class GamingDataset(Dataset):\n",
    "    def __init__(self, features, labels):\n",
    "        self.features = features\n",
    "        self.labels = labels\n",
    "\n",
    "    def __len__(self):\n",
    "        return len(self.features)\n",
    "\n",
    "    def __getitem__(self, idx):\n",
    "        features = self.features[idx]\n",
    "        label = self.labels[idx]\n",
    "        return torch.tensor(features), torch.tensor(label)"
   ]
  },
  {
   "cell_type": "code",
   "execution_count": null,
   "id": "cc667c4f-fbc1-44e2-8f95-8242c592fc6e",
   "metadata": {},
   "outputs": [],
   "source": [
    "csv_file = './online_gaming_behavior_dataset.csv'\n",
    "data_frame = pd.read_csv(csv_file)"
   ]
  },
  {
   "cell_type": "code",
   "execution_count": null,
   "id": "3478d744-b182-4ae8-a283-3f7c57cf4c8c",
   "metadata": {},
   "outputs": [],
   "source": [
    "# data_frame.fillna(data_frame.mean(), inplace=True)"
   ]
  },
  {
   "cell_type": "code",
   "execution_count": null,
   "id": "a16d346c-4cc6-455e-95e5-3e879178be67",
   "metadata": {},
   "outputs": [],
   "source": [
    "label_encoders = {}\n",
    "for column in data_frame.columns:\n",
    "    if data_frame[column].dtype == 'object':\n",
    "        le = LabelEncoder()\n",
    "        data_frame[column] = le.fit_transform(data_frame[column])\n",
    "        label_encoders[column] = le"
   ]
  },
  {
   "cell_type": "code",
   "execution_count": null,
   "id": "1d3dcbad-8b30-4230-a599-a4d7650cc088",
   "metadata": {},
   "outputs": [],
   "source": [
    "features = data_frame.iloc[:, :-1].values.astype(np.float32)\n",
    "labels = data_frame.iloc[:, -1].values.astype(np.int64)"
   ]
  },
  {
   "cell_type": "code",
   "execution_count": null,
   "id": "31b2f7d7-34a8-4138-833b-136cea3f8f09",
   "metadata": {},
   "outputs": [],
   "source": [
    "train_features, test_features, train_labels, test_labels = train_test_split(\n",
    "    features, labels, test_size=0.2, random_state=42\n",
    ")"
   ]
  },
  {
   "cell_type": "code",
   "execution_count": null,
   "id": "4c0ce12b-be60-4fe5-b295-08d9419e7cbe",
   "metadata": {},
   "outputs": [],
   "source": [
    "scaler = StandardScaler().fit(train_features)\n",
    "train_features = scaler.transform(train_features)\n",
    "test_features = scaler.transform(test_features)"
   ]
  },
  {
   "cell_type": "code",
   "execution_count": null,
   "id": "7494e0c4-4f76-41bc-9e1b-99b5c9fa6ee9",
   "metadata": {},
   "outputs": [],
   "source": [
    "pca = PCA(n_components=0.95)\n",
    "train_features = pca.fit_transform(train_features)\n",
    "test_features = pca.transform(test_features)"
   ]
  },
  {
   "cell_type": "code",
   "execution_count": null,
   "id": "1edd26bb-1027-455e-b613-fc94d8523fc3",
   "metadata": {},
   "outputs": [],
   "source": [
    "train_dataset = GamingDataset(train_features, train_labels)\n",
    "test_dataset = GamingDataset(test_features, test_labels)"
   ]
  },
  {
   "cell_type": "code",
   "execution_count": null,
   "id": "77c1cd6d-ec0d-47a4-a43c-8bc898e82884",
   "metadata": {},
   "outputs": [],
   "source": [
    "train_loader = DataLoader(train_dataset, batch_size=32, shuffle=True)\n",
    "test_loader = DataLoader(test_dataset, batch_size=32, shuffle=False)"
   ]
  },
  {
   "cell_type": "code",
   "execution_count": null,
   "id": "e93aea5d-0a01-4ce8-b470-aa230886fd18",
   "metadata": {},
   "outputs": [],
   "source": [
    "class BayesianNN(nn.Module):\n",
    "    def __init__(self, input_dim, hidden_dim, output_dim):\n",
    "        super(BayesianNN, self).__init__()\n",
    "        self.fc1 = nn.Linear(input_dim, hidden_dim)\n",
    "        self.fc2 = nn.Linear(hidden_dim, output_dim)\n",
    "\n",
    "    def forward(self, x):\n",
    "        x = self.fc1(x)\n",
    "        x = torch.relu(x)\n",
    "        x = self.fc2(x)\n",
    "        return x\n",
    "\n",
    "def model(x_data, y_data=None):\n",
    "    priors = {\n",
    "        \"fc1.weight\": dist.Normal(0, 1).expand([128, input_dim]).to_event(2),\n",
    "        \"fc1.bias\": dist.Normal(0, 1).expand([128]).to_event(1),\n",
    "        \"fc2.weight\": dist.Normal(0, 1).expand([output_dim, 128]).to_event(2),\n",
    "        \"fc2.bias\": dist.Normal(0, 1).expand([output_dim]).to_event(1)\n",
    "    }\n",
    "    lifted_module = pyro.random_module(\"module\", bayesian_nn, priors)\n",
    "    lifted_reg_model = lifted_module()\n",
    "    \n",
    "    with pyro.plate(\"map\", x_data.shape[0]):\n",
    "        prediction_mean = lifted_reg_model(x_data)\n",
    "        pyro.sample(\"obs\", dist.Categorical(logits=prediction_mean), obs=y_data)\n",
    "\n",
    "def guide(x_data, y_data=None):\n",
    "    priors = {\n",
    "        \"fc1.weight\": dist.Normal(pyro.param(\"fc1_weight_mu\", torch.randn_like(bayesian_nn.fc1.weight)),\n",
    "                                  pyro.param(\"fc1_weight_sigma\", torch.ones_like(bayesian_nn.fc1.weight))).to_event(2),\n",
    "        \"fc1.bias\": dist.Normal(pyro.param(\"fc1_bias_mu\", torch.randn_like(bayesian_nn.fc1.bias)),\n",
    "                                pyro.param(\"fc1_bias_sigma\", torch.ones_like(bayesian_nn.fc1.bias))).to_event(1),\n",
    "        \"fc2.weight\": dist.Normal(pyro.param(\"fc2_weight_mu\", torch.randn_like(bayesian_nn.fc2.weight)),\n",
    "                                  pyro.param(\"fc2_weight_sigma\", torch.ones_like(bayesian_nn.fc2.weight))).to_event(2),\n",
    "        \"fc2.bias\": dist.Normal(pyro.param(\"fc2_bias_mu\", torch.randn_like(bayesian_nn.fc2.bias)),\n",
    "                                pyro.param(\"fc2_bias_sigma\", torch.ones_like(bayesian_nn.fc2.bias))).to_event(1)\n",
    "    }\n",
    "    lifted_module = pyro.random_module(\"module\", bayesian_nn, priors)\n",
    "    return lifted_module()\n"
   ]
  },
  {
   "cell_type": "code",
   "execution_count": null,
   "id": "985d863b-ec8a-4543-bb4c-9743ce4132e6",
   "metadata": {},
   "outputs": [],
   "source": [
    "input_dim = train_features.shape[1]\n",
    "output_dim = len(np.unique(train_labels))\n",
    "\n",
    "bayesian_nn = BayesianNN(input_dim, 128, output_dim)"
   ]
  },
  {
   "cell_type": "code",
   "execution_count": null,
   "id": "42a51d24-5b00-434b-b007-3c205f1bbb47",
   "metadata": {},
   "outputs": [],
   "source": [
    "optimizer = Adam({\"lr\": 0.001})\n",
    "svi = SVI(model, guide, optimizer, loss=Trace_ELBO())"
   ]
  },
  {
   "cell_type": "code",
   "execution_count": null,
   "id": "5794e083-109d-43be-ba52-a881f7cbb9b2",
   "metadata": {},
   "outputs": [],
   "source": [
    "device = torch.device('cuda' if torch.cuda.is_available() else 'cpu')"
   ]
  },
  {
   "cell_type": "code",
   "execution_count": null,
   "id": "a2175ff4-c93c-4b60-822f-f62f19728813",
   "metadata": {},
   "outputs": [],
   "source": [
    "bayesian_nn = bayesian_nn.to(device)"
   ]
  },
  {
   "cell_type": "code",
   "execution_count": null,
   "id": "eb1aeff0-1da6-4d69-94ab-9c7ac1bb5a45",
   "metadata": {},
   "outputs": [],
   "source": [
    "num_epochs = 20\n",
    "losses = []\n",
    "\n",
    "for epoch in range(num_epochs):\n",
    "    epoch_loss = 0.0\n",
    "    for inputs, labels in train_loader:\n",
    "        inputs, labels = inputs.to(torch.float32), labels.to(torch.long)\n",
    "        inputs = inputs.to(device)\n",
    "        labels = labels.to(device)\n",
    "        epoch_loss += svi.step(inputs, labels)\n",
    "    losses.append(epoch_loss / len(train_loader.dataset))\n",
    "    print(f\"Epoch [{epoch+1}/{num_epochs}], Loss: {epoch_loss/len(train_loader.dataset):.4f}\")\n",
    "\n",
    "plt.plot(losses)\n",
    "plt.title(\"Training Loss\")\n",
    "plt.xlabel(\"Epoch\")\n",
    "plt.ylabel(\"Loss\")\n",
    "plt.show()"
   ]
  },
  {
   "cell_type": "code",
   "execution_count": null,
   "id": "9514928a-257b-4eed-a1aa-ea5e9a3b4cbb",
   "metadata": {},
   "outputs": [],
   "source": [
    "bayesian_nn.eval()\n",
    "all_labels = []\n",
    "all_predictions = []\n",
    "\n",
    "with torch.no_grad():\n",
    "    for inputs, labels in test_loader:\n",
    "        probabilities = bayesian_nn(inputs.to(torch.float32))\n",
    "        _, predicted = torch.max(probabilities, 1)\n",
    "        \n",
    "        all_labels.extend(labels.numpy())\n",
    "        all_predictions.extend(predicted.numpy())"
   ]
  },
  {
   "cell_type": "code",
   "execution_count": null,
   "id": "aa03f79d-a562-4fd3-b0ce-5bff40c544d6",
   "metadata": {},
   "outputs": [],
   "source": [
    "accuracy = accuracy_score(all_labels, all_predictions)\n",
    "precision = precision_score(all_labels, all_predictions, average='weighted')\n",
    "recall = recall_score(all_labels, all_predictions, average='weighted')\n",
    "f1 = f1_score(all_labels, all_predictions, average='weighted')\n",
    "\n",
    "print(f\"Accuracy: {accuracy:.4f}\")\n",
    "print(f\"Precision: {precision:.4f}\")\n",
    "print(f\"Recall: {recall:.4f}\")\n",
    "print(f\"F1 Score: {f1:.4f}\")"
   ]
  }
 ],
 "metadata": {
  "kernelspec": {
   "display_name": "Python 3 (ipykernel)",
   "language": "python",
   "name": "python3"
  },
  "language_info": {
   "codemirror_mode": {
    "name": "ipython",
    "version": 3
   },
   "file_extension": ".py",
   "mimetype": "text/x-python",
   "name": "python",
   "nbconvert_exporter": "python",
   "pygments_lexer": "ipython3",
   "version": "3.8.19"
  }
 },
 "nbformat": 4,
 "nbformat_minor": 5
}
